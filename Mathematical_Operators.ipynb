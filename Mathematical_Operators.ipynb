{
  "nbformat": 4,
  "nbformat_minor": 0,
  "metadata": {
    "colab": {
      "name": "Mathematical Operators.ipynb",
      "provenance": [],
      "authorship_tag": "ABX9TyNrthnZ51ECpoPdM9uVE1jO"
    },
    "kernelspec": {
      "name": "python3",
      "display_name": "Python 3"
    }
  },
  "cells": [
    {
      "cell_type": "code",
      "metadata": {
        "id": "8W_3g5xgTcnW",
        "colab": {
          "base_uri": "https://localhost:8080/"
        },
        "outputId": "39559f4d-5305-493c-9ed4-3869a1fb210a"
      },
      "source": [
        "2+3"
      ],
      "execution_count": null,
      "outputs": [
        {
          "output_type": "execute_result",
          "data": {
            "text/plain": [
              "5"
            ]
          },
          "metadata": {
            "tags": []
          },
          "execution_count": 1
        }
      ]
    },
    {
      "cell_type": "markdown",
      "metadata": {
        "id": "qeqv5hdk4Q1r"
      },
      "source": [
        " The symbol **'+'** is used as mathematical addition operator in python to add 2 operands\n"
      ]
    },
    {
      "cell_type": "code",
      "metadata": {
        "id": "tr67HY2oTjq9",
        "colab": {
          "base_uri": "https://localhost:8080/"
        },
        "outputId": "2ed5f453-dd1c-40b0-cd4a-1b3f5d63e918"
      },
      "source": [
        "2 + 3"
      ],
      "execution_count": null,
      "outputs": [
        {
          "output_type": "execute_result",
          "data": {
            "text/plain": [
              "5"
            ]
          },
          "metadata": {
            "tags": []
          },
          "execution_count": 2
        }
      ]
    },
    {
      "cell_type": "markdown",
      "metadata": {
        "id": "xkl-tww14kyi"
      },
      "source": [
        "The space between the operands and the operator does not affect the final outcome"
      ]
    },
    {
      "cell_type": "code",
      "metadata": {
        "id": "wlaBUynwTohq",
        "colab": {
          "base_uri": "https://localhost:8080/"
        },
        "outputId": "5c1bb76c-88ae-4432-9051-128114f8e2db"
      },
      "source": [
        "5-5"
      ],
      "execution_count": null,
      "outputs": [
        {
          "output_type": "execute_result",
          "data": {
            "text/plain": [
              "0"
            ]
          },
          "metadata": {
            "tags": []
          },
          "execution_count": 3
        }
      ]
    },
    {
      "cell_type": "markdown",
      "metadata": {
        "id": "uKzPhQfs4yl2"
      },
      "source": [
        "The symbol   **'-'**   is used as *mathematical* subtraction operator in python to subtract 2 operands"
      ]
    },
    {
      "cell_type": "code",
      "metadata": {
        "id": "dT4AAwL0Tx3J",
        "colab": {
          "base_uri": "https://localhost:8080/"
        },
        "outputId": "46d5822a-c336-4cd3-dc7b-44ae85bbbdb5"
      },
      "source": [
        "7*3"
      ],
      "execution_count": null,
      "outputs": [
        {
          "output_type": "execute_result",
          "data": {
            "text/plain": [
              "21"
            ]
          },
          "metadata": {
            "tags": []
          },
          "execution_count": 4
        }
      ]
    },
    {
      "cell_type": "markdown",
      "metadata": {
        "id": "zi3pbJs95OjY"
      },
      "source": [
        "The symbol **'*'**  is used as mathematical multiplication operator in python to multiply 2 operands"
      ]
    },
    {
      "cell_type": "code",
      "metadata": {
        "id": "d3DuZm2G5XHs",
        "colab": {
          "base_uri": "https://localhost:8080/"
        },
        "outputId": "e7797623-8bc6-43d0-ffb0-fbc6a876b096"
      },
      "source": [
        "7/3"
      ],
      "execution_count": null,
      "outputs": [
        {
          "output_type": "execute_result",
          "data": {
            "text/plain": [
              "2.3333333333333335"
            ]
          },
          "metadata": {
            "tags": []
          },
          "execution_count": 5
        }
      ]
    },
    {
      "cell_type": "markdown",
      "metadata": {
        "id": "0BsCKOLt5bUA"
      },
      "source": [
        "The symbol '/' is used as mathematical division operator in python to divide 2 operands"
      ]
    },
    {
      "cell_type": "code",
      "metadata": {
        "id": "QtTx00om5Z34",
        "colab": {
          "base_uri": "https://localhost:8080/"
        },
        "outputId": "8bd9ba84-179b-4d47-917e-f7df75c0b9a4"
      },
      "source": [
        "7//3"
      ],
      "execution_count": null,
      "outputs": [
        {
          "output_type": "execute_result",
          "data": {
            "text/plain": [
              "2"
            ]
          },
          "metadata": {
            "tags": []
          },
          "execution_count": 6
        }
      ]
    },
    {
      "cell_type": "markdown",
      "metadata": {
        "id": "qWqJq0m_6Osw"
      },
      "source": [
        "The symbol '//' is used to in python for integer division.\n",
        "That is, an integer is value is returned as the result."
      ]
    },
    {
      "cell_type": "code",
      "metadata": {
        "id": "4DzC78QW6NEN",
        "colab": {
          "base_uri": "https://localhost:8080/"
        },
        "outputId": "6012381c-13b1-47ac-be12-8cfc99dda171"
      },
      "source": [
        "7%3"
      ],
      "execution_count": null,
      "outputs": [
        {
          "output_type": "execute_result",
          "data": {
            "text/plain": [
              "1"
            ]
          },
          "metadata": {
            "tags": []
          },
          "execution_count": 7
        }
      ]
    },
    {
      "cell_type": "markdown",
      "metadata": {
        "id": "NDrgZXiv6uC-"
      },
      "source": [
        "The symbol '%' is used to return the remainder "
      ]
    },
    {
      "cell_type": "code",
      "metadata": {
        "id": "holrNAOT6qOK",
        "colab": {
          "base_uri": "https://localhost:8080/"
        },
        "outputId": "7b51b03b-5c5f-485e-f747-3eb5165eaa74"
      },
      "source": [
        "5 ** 3"
      ],
      "execution_count": null,
      "outputs": [
        {
          "output_type": "execute_result",
          "data": {
            "text/plain": [
              "125"
            ]
          },
          "metadata": {
            "tags": []
          },
          "execution_count": 8
        }
      ]
    },
    {
      "cell_type": "markdown",
      "metadata": {
        "id": "X_1YacqxFIeS"
      },
      "source": [
        "The \"**\" symbol is used as operator for exponentiation "
      ]
    },
    {
      "cell_type": "code",
      "metadata": {
        "id": "9qsoHK3aGbbs"
      },
      "source": [
        "2 ** 2 + 24 // 4"
      ],
      "execution_count": null,
      "outputs": []
    },
    {
      "cell_type": "markdown",
      "metadata": {
        "id": "DzyjEJPOABwv"
      },
      "source": [
        "According to **PEDMAS**, first exponentiation is done first, then the integer division, finally the addition\n",
        "\n",
        "---\n",
        "\n"
      ]
    },
    {
      "cell_type": "code",
      "metadata": {
        "id": "PhHCFrlWAb3S"
      },
      "source": [
        ""
      ],
      "execution_count": null,
      "outputs": []
    }
  ]
}