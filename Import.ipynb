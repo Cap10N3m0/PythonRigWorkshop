{
  "nbformat": 4,
  "nbformat_minor": 0,
  "metadata": {
    "colab": {
      "name": "Import.ipynb",
      "provenance": [],
      "authorship_tag": "ABX9TyMJzbshEs6pPtgKBBghSdNE"
    },
    "kernelspec": {
      "name": "python3",
      "display_name": "Python 3"
    }
  },
  "cells": [
    {
      "cell_type": "code",
      "metadata": {
        "id": "tvw8C40_mR_4",
        "colab": {
          "base_uri": "https://localhost:8080/"
        },
        "outputId": "34467287-e14b-48fc-b22f-15aa8b232426"
      },
      "source": [
        "!pip install art"
      ],
      "execution_count": null,
      "outputs": [
        {
          "output_type": "stream",
          "text": [
            "Collecting art\n",
            "\u001b[?25l  Downloading https://files.pythonhosted.org/packages/83/37/c28d69ba1005889e8ff9633b8e7eccaaddc03549058a51ef5f51853cf183/art-5.1-py2.py3-none-any.whl (567kB)\n",
            "\r\u001b[K     |▋                               | 10kB 15.3MB/s eta 0:00:01\r\u001b[K     |█▏                              | 20kB 13.3MB/s eta 0:00:01\r\u001b[K     |█▊                              | 30kB 8.9MB/s eta 0:00:01\r\u001b[K     |██▎                             | 40kB 7.8MB/s eta 0:00:01\r\u001b[K     |██▉                             | 51kB 4.5MB/s eta 0:00:01\r\u001b[K     |███▌                            | 61kB 4.9MB/s eta 0:00:01\r\u001b[K     |████                            | 71kB 5.0MB/s eta 0:00:01\r\u001b[K     |████▋                           | 81kB 5.2MB/s eta 0:00:01\r\u001b[K     |█████▏                          | 92kB 5.2MB/s eta 0:00:01\r\u001b[K     |█████▊                          | 102kB 4.3MB/s eta 0:00:01\r\u001b[K     |██████▍                         | 112kB 4.3MB/s eta 0:00:01\r\u001b[K     |███████                         | 122kB 4.3MB/s eta 0:00:01\r\u001b[K     |███████▌                        | 133kB 4.3MB/s eta 0:00:01\r\u001b[K     |████████                        | 143kB 4.3MB/s eta 0:00:01\r\u001b[K     |████████▋                       | 153kB 4.3MB/s eta 0:00:01\r\u001b[K     |█████████▎                      | 163kB 4.3MB/s eta 0:00:01\r\u001b[K     |█████████▉                      | 174kB 4.3MB/s eta 0:00:01\r\u001b[K     |██████████▍                     | 184kB 4.3MB/s eta 0:00:01\r\u001b[K     |███████████                     | 194kB 4.3MB/s eta 0:00:01\r\u001b[K     |███████████▌                    | 204kB 4.3MB/s eta 0:00:01\r\u001b[K     |████████████▏                   | 215kB 4.3MB/s eta 0:00:01\r\u001b[K     |████████████▊                   | 225kB 4.3MB/s eta 0:00:01\r\u001b[K     |█████████████▎                  | 235kB 4.3MB/s eta 0:00:01\r\u001b[K     |█████████████▉                  | 245kB 4.3MB/s eta 0:00:01\r\u001b[K     |██████████████▍                 | 256kB 4.3MB/s eta 0:00:01\r\u001b[K     |███████████████                 | 266kB 4.3MB/s eta 0:00:01\r\u001b[K     |███████████████▋                | 276kB 4.3MB/s eta 0:00:01\r\u001b[K     |████████████████▏               | 286kB 4.3MB/s eta 0:00:01\r\u001b[K     |████████████████▊               | 296kB 4.3MB/s eta 0:00:01\r\u001b[K     |█████████████████▎              | 307kB 4.3MB/s eta 0:00:01\r\u001b[K     |██████████████████              | 317kB 4.3MB/s eta 0:00:01\r\u001b[K     |██████████████████▌             | 327kB 4.3MB/s eta 0:00:01\r\u001b[K     |███████████████████             | 337kB 4.3MB/s eta 0:00:01\r\u001b[K     |███████████████████▋            | 348kB 4.3MB/s eta 0:00:01\r\u001b[K     |████████████████████▏           | 358kB 4.3MB/s eta 0:00:01\r\u001b[K     |████████████████████▉           | 368kB 4.3MB/s eta 0:00:01\r\u001b[K     |█████████████████████▍          | 378kB 4.3MB/s eta 0:00:01\r\u001b[K     |██████████████████████          | 389kB 4.3MB/s eta 0:00:01\r\u001b[K     |██████████████████████▌         | 399kB 4.3MB/s eta 0:00:01\r\u001b[K     |███████████████████████         | 409kB 4.3MB/s eta 0:00:01\r\u001b[K     |███████████████████████▊        | 419kB 4.3MB/s eta 0:00:01\r\u001b[K     |████████████████████████▎       | 430kB 4.3MB/s eta 0:00:01\r\u001b[K     |████████████████████████▉       | 440kB 4.3MB/s eta 0:00:01\r\u001b[K     |█████████████████████████▍      | 450kB 4.3MB/s eta 0:00:01\r\u001b[K     |██████████████████████████      | 460kB 4.3MB/s eta 0:00:01\r\u001b[K     |██████████████████████████▋     | 471kB 4.3MB/s eta 0:00:01\r\u001b[K     |███████████████████████████▏    | 481kB 4.3MB/s eta 0:00:01\r\u001b[K     |███████████████████████████▊    | 491kB 4.3MB/s eta 0:00:01\r\u001b[K     |████████████████████████████▎   | 501kB 4.3MB/s eta 0:00:01\r\u001b[K     |████████████████████████████▉   | 512kB 4.3MB/s eta 0:00:01\r\u001b[K     |█████████████████████████████▌  | 522kB 4.3MB/s eta 0:00:01\r\u001b[K     |██████████████████████████████  | 532kB 4.3MB/s eta 0:00:01\r\u001b[K     |██████████████████████████████▋ | 542kB 4.3MB/s eta 0:00:01\r\u001b[K     |███████████████████████████████▏| 552kB 4.3MB/s eta 0:00:01\r\u001b[K     |███████████████████████████████▊| 563kB 4.3MB/s eta 0:00:01\r\u001b[K     |████████████████████████████████| 573kB 4.3MB/s \n",
            "\u001b[?25hInstalling collected packages: art\n",
            "Successfully installed art-5.1\n"
          ],
          "name": "stdout"
        }
      ]
    },
    {
      "cell_type": "markdown",
      "metadata": {
        "id": "jGN3Q4lHmnQn"
      },
      "source": [
        "In above command a package called art is download"
      ]
    },
    {
      "cell_type": "code",
      "metadata": {
        "id": "rpAjSQHPl1TO",
        "colab": {
          "base_uri": "https://localhost:8080/"
        },
        "outputId": "acd8bfec-5a66-4400-d214-4da39df64989"
      },
      "source": [
        "import art\n",
        "art.tprint(\"Welcome To Python Workshop\")"
      ],
      "execution_count": null,
      "outputs": [
        {
          "output_type": "stream",
          "text": [
            "__        __       _                                 _____          ____          _    _                    __        __              _          _                   \r\n",
            "\\ \\      / /  ___ | |  ___   ___   _ __ ___    ___  |_   _|  ___   |  _ \\  _   _ | |_ | |__    ___   _ __   \\ \\      / /  ___   _ __ | | __ ___ | |__    ___   _ __  \r\n",
            " \\ \\ /\\ / /  / _ \\| | / __| / _ \\ | '_ ` _ \\  / _ \\   | |   / _ \\  | |_) || | | || __|| '_ \\  / _ \\ | '_ \\   \\ \\ /\\ / /  / _ \\ | '__|| |/ // __|| '_ \\  / _ \\ | '_ \\ \r\n",
            "  \\ V  V /  |  __/| || (__ | (_) || | | | | ||  __/   | |  | (_) | |  __/ | |_| || |_ | | | || (_) || | | |   \\ V  V /  | (_) || |   |   < \\__ \\| | | || (_) || |_) |\r\n",
            "   \\_/\\_/    \\___||_| \\___| \\___/ |_| |_| |_| \\___|   |_|   \\___/  |_|     \\__, | \\__||_| |_| \\___/ |_| |_|    \\_/\\_/    \\___/ |_|   |_|\\_\\|___/|_| |_| \\___/ | .__/ \r\n",
            "                                                                           |___/                                                                              |_|    \r\n",
            "\n"
          ],
          "name": "stdout"
        }
      ]
    },
    {
      "cell_type": "markdown",
      "metadata": {
        "id": "1zUu1OL2m67O"
      },
      "source": [
        "**import art**  statement is used to load art package to the code\n",
        "tprint is a function in art which is accessed by **art.tprint()**"
      ]
    }
  ]
}