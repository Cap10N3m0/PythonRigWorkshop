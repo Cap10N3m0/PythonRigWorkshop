{
  "nbformat": 4,
  "nbformat_minor": 0,
  "metadata": {
    "colab": {
      "name": "Conditionals.ipynb",
      "provenance": [],
      "authorship_tag": "ABX9TyMDwHf4M2feqiBry8j1X1J5"
    },
    "kernelspec": {
      "name": "python3",
      "display_name": "Python 3"
    }
  },
  "cells": [
    {
      "cell_type": "code",
      "metadata": {
        "colab": {
          "base_uri": "https://localhost:8080/"
        },
        "id": "RBv1cAABTugx",
        "outputId": "afbe29b2-5e5a-43fd-81ed-9ea19240e014"
      },
      "source": [
        "age = int(input())"
      ],
      "execution_count": null,
      "outputs": [
        {
          "output_type": "stream",
          "text": [
            "20\n"
          ],
          "name": "stdout"
        }
      ]
    },
    {
      "cell_type": "code",
      "metadata": {
        "colab": {
          "base_uri": "https://localhost:8080/"
        },
        "id": "nfBYqLBYT0t6",
        "outputId": "8ee14cd9-2770-4429-db5f-9322dbeed310"
      },
      "source": [
        "if age >= 18:\n",
        "  print(\"You are allowed to vote\")"
      ],
      "execution_count": null,
      "outputs": [
        {
          "output_type": "stream",
          "text": [
            "You are allowed to vote\n"
          ],
          "name": "stdout"
        }
      ]
    },
    {
      "cell_type": "code",
      "metadata": {
        "id": "B2QYDxvAT5DK"
      },
      "source": [
        "if age >= 18:\n",
        "  print('You can vote.')\n",
        "  if age >= 21:\n",
        "    print('You can marry.')"
      ],
      "execution_count": null,
      "outputs": []
    },
    {
      "cell_type": "markdown",
      "metadata": {
        "id": "hNo4FPdLZ7g_"
      },
      "source": [
        "If condition inside an if condition is called as a nested if condition.\n",
        "\n",
        "\n",
        "\n",
        "\n"
      ]
    },
    {
      "cell_type": "markdown",
      "metadata": {
        "id": "oen2UIPGaiaG"
      },
      "source": [
        "Same rules applies to the if condition inside the if condition\n",
        "\n",
        "\n"
      ]
    },
    {
      "cell_type": "code",
      "metadata": {
        "colab": {
          "base_uri": "https://localhost:8080/"
        },
        "id": "AcgI8P9Bcn4G",
        "outputId": "cce8c0cb-7956-4dde-d979-ddfa00f04ae2"
      },
      "source": [
        "age = int(input())"
      ],
      "execution_count": null,
      "outputs": [
        {
          "output_type": "stream",
          "text": [
            "12\n"
          ],
          "name": "stdout"
        }
      ]
    },
    {
      "cell_type": "code",
      "metadata": {
        "colab": {
          "base_uri": "https://localhost:8080/"
        },
        "id": "GUhZMrKXaG4g",
        "outputId": "d54de2b7-f50e-469f-b5c1-1aae23865bca"
      },
      "source": [
        "print(\"Welcome\")\n",
        "if age >= 18:\n",
        "  print('Welcome to our voting program.')\n",
        "else:\n",
        "  print('You aren\\'t old enough to vote.')\n",
        "print(\"Goodbye\")"
      ],
      "execution_count": null,
      "outputs": [
        {
          "output_type": "stream",
          "text": [
            "Welcome\n",
            "You aren't old enough to vote.\n",
            "Goodbye\n"
          ],
          "name": "stdout"
        }
      ]
    },
    {
      "cell_type": "code",
      "metadata": {
        "id": "ABbdwWEjcyVS"
      },
      "source": [
        ""
      ],
      "execution_count": null,
      "outputs": []
    }
  ]
}