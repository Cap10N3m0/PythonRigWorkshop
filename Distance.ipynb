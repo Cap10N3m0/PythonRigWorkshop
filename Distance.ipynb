{
  "nbformat": 4,
  "nbformat_minor": 0,
  "metadata": {
    "colab": {
      "name": "Distance.ipynb",
      "provenance": [],
      "authorship_tag": "ABX9TyN3Cw7x2kgSuRbTwhCPYa32",
      "include_colab_link": true
    },
    "kernelspec": {
      "name": "python3",
      "display_name": "Python 3"
    }
  },
  "cells": [
    {
      "cell_type": "markdown",
      "metadata": {
        "id": "view-in-github",
        "colab_type": "text"
      },
      "source": [
        "<a href=\"https://colab.research.google.com/github/Cap10N3m0/PythonRigWorkshop/blob/main/Distance.ipynb\" target=\"_parent\"><img src=\"https://colab.research.google.com/assets/colab-badge.svg\" alt=\"Open In Colab\"/></a>"
      ]
    },
    {
      "cell_type": "code",
      "metadata": {
        "id": "o8YbY4FYSiKs",
        "colab": {
          "base_uri": "https://localhost:8080/"
        },
        "outputId": "f5fd85d4-87a6-4f4e-8e4e-9c8d1097a5c2"
      },
      "source": [
        "\"\"\" This code is to compute the distance of a point\n",
        "    in the 3D from the origin \"\"\"\n",
        "\n",
        "x = 4  # The x cordinate of the point\n",
        "y = 3  # The y cordinate of the point\n",
        "z = 12 # The z cordinate of the point \n",
        "\n",
        "r = (x**2 + y**2 + z**2)**0.5  # calculation of distance from origin\n",
        "r"
      ],
      "execution_count": null,
      "outputs": [
        {
          "output_type": "execute_result",
          "data": {
            "text/plain": [
              "13.0"
            ]
          },
          "metadata": {
            "tags": []
          },
          "execution_count": 1
        }
      ]
    },
    {
      "cell_type": "code",
      "metadata": {
        "id": "0ggSCW46Vkik"
      },
      "source": [
        ""
      ],
      "execution_count": null,
      "outputs": []
    }
  ]
}