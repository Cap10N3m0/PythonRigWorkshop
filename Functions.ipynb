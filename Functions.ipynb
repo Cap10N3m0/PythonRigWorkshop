{
  "nbformat": 4,
  "nbformat_minor": 0,
  "metadata": {
    "colab": {
      "name": "Functions.ipynb",
      "provenance": [],
      "collapsed_sections": [],
      "authorship_tag": "ABX9TyNg+KxgbQTEZb09OyQQTXcR"
    },
    "kernelspec": {
      "name": "python3",
      "display_name": "Python 3"
    }
  },
  "cells": [
    {
      "cell_type": "code",
      "metadata": {
        "id": "O5XmSjhByvaQ"
      },
      "source": [
        "def welcome():\n",
        "  print(\"Hello, welcome to this tutorial\")"
      ],
      "execution_count": null,
      "outputs": []
    },
    {
      "cell_type": "code",
      "metadata": {
        "colab": {
          "base_uri": "https://localhost:8080/"
        },
        "id": "rbCoIxHmy_W2",
        "outputId": "97da416d-7aa8-4c71-dcc6-a741b95bb47a"
      },
      "source": [
        "welcome()"
      ],
      "execution_count": null,
      "outputs": [
        {
          "output_type": "stream",
          "text": [
            "Hello, welcome to the tutorial\n"
          ],
          "name": "stdout"
        }
      ]
    },
    {
      "cell_type": "code",
      "metadata": {
        "id": "ojvffg7fzDcM"
      },
      "source": [
        "def oddeven(n):\n",
        "  if n%2 == 0:\n",
        "    print(n,\"is an even number\")\n",
        "  else:\n",
        "    print(n,\"is a odd number\")"
      ],
      "execution_count": null,
      "outputs": []
    },
    {
      "cell_type": "code",
      "metadata": {
        "colab": {
          "base_uri": "https://localhost:8080/"
        },
        "id": "BoEkKWomzi2b",
        "outputId": "31ffebb1-2191-4065-dd21-c2dd59969aa1"
      },
      "source": [
        "oddeven(5)\n",
        "oddeven(4)\n",
        "oddeven(7)"
      ],
      "execution_count": null,
      "outputs": [
        {
          "output_type": "stream",
          "text": [
            "5 is a odd number\n",
            "4 is an even number\n",
            "7 is a odd number\n"
          ],
          "name": "stdout"
        }
      ]
    },
    {
      "cell_type": "code",
      "metadata": {
        "id": "5Zi09xcRztRZ"
      },
      "source": [
        "def divisible(m,n):\n",
        "  if m%n==0:\n",
        "    print(m,\"is divisible by\",n)\n",
        "  else:\n",
        "    print(m,\"is not divisible by\",n)"
      ],
      "execution_count": null,
      "outputs": []
    },
    {
      "cell_type": "code",
      "metadata": {
        "colab": {
          "base_uri": "https://localhost:8080/"
        },
        "id": "ReYOF1Om0kq2",
        "outputId": "95e67faa-43d2-493f-f345-132ed6f6a79f"
      },
      "source": [
        "divisible(4,2)\n",
        "divisible(3,6)\n",
        "divisible(6,3)"
      ],
      "execution_count": null,
      "outputs": [
        {
          "output_type": "stream",
          "text": [
            "4 is divisible by 2\n",
            "3 is not divisible by 6\n",
            "6 is divisible by 3\n"
          ],
          "name": "stdout"
        }
      ]
    },
    {
      "cell_type": "code",
      "metadata": {
        "id": "yZl9iXLg0slt"
      },
      "source": [
        "def greater(m,n):\n",
        "  if m>n:\n",
        "    return m\n",
        "  else:\n",
        "    return n"
      ],
      "execution_count": null,
      "outputs": []
    },
    {
      "cell_type": "code",
      "metadata": {
        "colab": {
          "base_uri": "https://localhost:8080/"
        },
        "id": "klfM96gP1AzM",
        "outputId": "04f50fd4-69ee-4089-ff3e-a3fd31c1c166"
      },
      "source": [
        "a = greater(10,5)\n",
        "b = greater(10,15)\n",
        "c = greater(9,1)\n",
        "print(a,b,c)"
      ],
      "execution_count": null,
      "outputs": [
        {
          "output_type": "stream",
          "text": [
            "10 15 9\n"
          ],
          "name": "stdout"
        }
      ]
    },
    {
      "cell_type": "code",
      "metadata": {
        "id": "g10WxfWs1QI7"
      },
      "source": [
        "def year(y=2021):\n",
        "  print(\"I believe\",y,\"is gonna be great\")"
      ],
      "execution_count": null,
      "outputs": []
    },
    {
      "cell_type": "code",
      "metadata": {
        "colab": {
          "base_uri": "https://localhost:8080/"
        },
        "id": "PFQyWVXQ1unZ",
        "outputId": "9319e849-439d-4273-e848-e1c70a8e7734"
      },
      "source": [
        "year()\n",
        "year(2100)"
      ],
      "execution_count": null,
      "outputs": [
        {
          "output_type": "stream",
          "text": [
            "I believe 2021 is gonna be great\n",
            "I believe 2100 is gonna be great\n"
          ],
          "name": "stdout"
        }
      ]
    },
    {
      "cell_type": "code",
      "metadata": {
        "colab": {
          "base_uri": "https://localhost:8080/"
        },
        "id": "hNluZfnn1zAh",
        "outputId": "2dc518f9-7b10-443e-fca2-a246865fab18"
      },
      "source": [
        "def first():\n",
        "  return 1,2,3\n",
        "\n",
        "\n",
        "a,b,c = first()\n",
        "print(a,b,c)"
      ],
      "execution_count": null,
      "outputs": [
        {
          "output_type": "stream",
          "text": [
            "1 2 3\n"
          ],
          "name": "stdout"
        }
      ]
    },
    {
      "cell_type": "code",
      "metadata": {
        "id": "X9KU-zqX-zpd"
      },
      "source": [
        ""
      ],
      "execution_count": null,
      "outputs": []
    }
  ]
}