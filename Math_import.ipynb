{
  "nbformat": 4,
  "nbformat_minor": 0,
  "metadata": {
    "colab": {
      "name": "Math_import.ipynb",
      "provenance": [],
      "authorship_tag": "ABX9TyOQM72K9PvXTeDBmwSSuGwq"
    },
    "kernelspec": {
      "name": "python3",
      "display_name": "Python 3"
    }
  },
  "cells": [
    {
      "cell_type": "code",
      "metadata": {
        "colab": {
          "base_uri": "https://localhost:8080/"
        },
        "id": "UCHVBi-gbbl3",
        "outputId": "219efe9f-b90e-4f5a-fe11-3906d0ebbc3c"
      },
      "source": [
        "import math\n",
        "math.exp(2)"
      ],
      "execution_count": null,
      "outputs": [
        {
          "output_type": "execute_result",
          "data": {
            "text/plain": [
              "7.38905609893065"
            ]
          },
          "metadata": {
            "tags": []
          },
          "execution_count": 1
        }
      ]
    },
    {
      "cell_type": "code",
      "metadata": {
        "colab": {
          "base_uri": "https://localhost:8080/"
        },
        "id": "6iq1ZbnTbpcw",
        "outputId": "ba43bce1-3366-45e6-b976-0d9a38a5510f"
      },
      "source": [
        "from math import exp\n",
        "exp(2)"
      ],
      "execution_count": null,
      "outputs": [
        {
          "output_type": "execute_result",
          "data": {
            "text/plain": [
              "7.38905609893065"
            ]
          },
          "metadata": {
            "tags": []
          },
          "execution_count": 2
        }
      ]
    },
    {
      "cell_type": "code",
      "metadata": {
        "id": "O9vUl5Cfbt1F",
        "colab": {
          "base_uri": "https://localhost:8080/"
        },
        "outputId": "a27b9a5a-c507-4a9b-f21f-26b688f4f695"
      },
      "source": [
        "from math import *\n",
        "exp(2)"
      ],
      "execution_count": null,
      "outputs": [
        {
          "output_type": "execute_result",
          "data": {
            "text/plain": [
              "7.38905609893065"
            ]
          },
          "metadata": {
            "tags": []
          },
          "execution_count": 3
        }
      ]
    },
    {
      "cell_type": "code",
      "metadata": {
        "id": "rzmVLBkEbv0F",
        "colab": {
          "base_uri": "https://localhost:8080/"
        },
        "outputId": "852f4fc9-d314-49f6-9208-97b75b53689f"
      },
      "source": [
        "from math import exp as exponential\n",
        "exponential(2)"
      ],
      "execution_count": null,
      "outputs": [
        {
          "output_type": "execute_result",
          "data": {
            "text/plain": [
              "7.38905609893065"
            ]
          },
          "metadata": {
            "tags": []
          },
          "execution_count": 4
        }
      ]
    }
  ]
}