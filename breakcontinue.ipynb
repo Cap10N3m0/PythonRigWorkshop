{
  "nbformat": 4,
  "nbformat_minor": 0,
  "metadata": {
    "colab": {
      "name": "breakcontinue.ipynb",
      "provenance": [],
      "authorship_tag": "ABX9TyMzaYDZ804VLcgbMBntcoJC"
    },
    "kernelspec": {
      "name": "python3",
      "display_name": "Python 3"
    }
  },
  "cells": [
    {
      "cell_type": "code",
      "metadata": {
        "colab": {
          "base_uri": "https://localhost:8080/"
        },
        "id": "60HbByLbJ6is",
        "outputId": "ea5158f8-bd46-4419-87ce-80667e16c822"
      },
      "source": [
        "a = 1\n",
        "while  a < 10:\n",
        "  if a==5:\n",
        "    break\n",
        "  print(a)\n",
        "  a = a+1\n"
      ],
      "execution_count": null,
      "outputs": [
        {
          "output_type": "stream",
          "text": [
            "1\n",
            "2\n",
            "3\n",
            "4\n"
          ],
          "name": "stdout"
        }
      ]
    },
    {
      "cell_type": "code",
      "metadata": {
        "colab": {
          "base_uri": "https://localhost:8080/"
        },
        "id": "xHG7FwW9KTGG",
        "outputId": "744b6f76-7b72-4748-c16f-884be2409dee"
      },
      "source": [
        "for i in range(11):\n",
        "\tif i%2 == 0:\n",
        "\t\tcontinue\n",
        "\tprint(i)"
      ],
      "execution_count": null,
      "outputs": [
        {
          "output_type": "stream",
          "text": [
            "1\n",
            "3\n",
            "5\n",
            "7\n",
            "9\n"
          ],
          "name": "stdout"
        }
      ]
    },
    {
      "cell_type": "code",
      "metadata": {
        "id": "X_SMvFPuLJ9_"
      },
      "source": [
        ""
      ],
      "execution_count": null,
      "outputs": []
    }
  ]
}