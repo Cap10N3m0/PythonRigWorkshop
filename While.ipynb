{
  "nbformat": 4,
  "nbformat_minor": 0,
  "metadata": {
    "colab": {
      "name": "While.ipynb",
      "provenance": [],
      "authorship_tag": "ABX9TyMIdgZncjdbCavnIIHDWwif"
    },
    "kernelspec": {
      "name": "python3",
      "display_name": "Python 3"
    }
  },
  "cells": [
    {
      "cell_type": "code",
      "metadata": {
        "colab": {
          "base_uri": "https://localhost:8080/"
        },
        "id": "lNJS5hLd9pyz",
        "outputId": "dc3709e9-b099-48b6-c087-185bbf7308f0"
      },
      "source": [
        "a = 1\n",
        "while a < 10:\n",
        "  print(a)\n",
        "  a = a + 2\n",
        "print(\"Are the odd numbers between 1-10\")"
      ],
      "execution_count": null,
      "outputs": [
        {
          "output_type": "stream",
          "text": [
            "1\n",
            "3\n",
            "5\n",
            "7\n",
            "9\n",
            "Are the odd numbers between 1-10\n"
          ],
          "name": "stdout"
        }
      ]
    },
    {
      "cell_type": "code",
      "metadata": {
        "id": "_Fwbr9Pf-A_7"
      },
      "source": [
        "x = 1\n",
        "while x > 0 :  # This constructs an infinite loop\n",
        "   print(x)\n",
        "   x = x + 1\n",
        "\n",
        "print(\"Good bye!\")"
      ],
      "execution_count": null,
      "outputs": []
    },
    {
      "cell_type": "code",
      "metadata": {
        "id": "ZdZwtjF-_Max"
      },
      "source": [
        ""
      ],
      "execution_count": null,
      "outputs": []
    }
  ]
}