{
  "nbformat": 4,
  "nbformat_minor": 0,
  "metadata": {
    "colab": {
      "name": "Variables.ipynb",
      "provenance": [],
      "authorship_tag": "ABX9TyOks9OvaoWc2SnuR8pcT/fy",
      "include_colab_link": true
    },
    "kernelspec": {
      "display_name": "Python 3",
      "name": "python3"
    }
  },
  "cells": [
    {
      "cell_type": "markdown",
      "metadata": {
        "id": "view-in-github",
        "colab_type": "text"
      },
      "source": [
        "<a href=\"https://colab.research.google.com/github/Cap10N3m0/PythonRigWorkshop/blob/main/Variables.ipynb\" target=\"_parent\"><img src=\"https://colab.research.google.com/assets/colab-badge.svg\" alt=\"Open In Colab\"/></a>"
      ]
    },
    {
      "cell_type": "markdown",
      "metadata": {
        "id": "1njXfNY5Mi3C"
      },
      "source": [
        "In this exercise will be assigning values to variables.\n"
      ]
    },
    {
      "cell_type": "code",
      "metadata": {
        "id": "YPoWXcPnMzOd"
      },
      "source": [
        "x = 5"
      ],
      "execution_count": null,
      "outputs": []
    },
    {
      "cell_type": "markdown",
      "metadata": {
        "id": "jQ7NX5HeM7I3"
      },
      "source": [
        "Here, we assigned a variable called 'x' with an integer value 5 with the help of '=' operator"
      ]
    },
    {
      "cell_type": "code",
      "metadata": {
        "colab": {
          "base_uri": "https://localhost:8080/"
        },
        "id": "Mp0uihITN9lp",
        "outputId": "16c7d0e8-36f2-4f14-9ac6-3c864f9b37d6"
      },
      "source": [
        "x"
      ],
      "execution_count": null,
      "outputs": [
        {
          "output_type": "execute_result",
          "data": {
            "text/plain": [
              "5"
            ]
          },
          "metadata": {
            "tags": []
          },
          "execution_count": 2
        }
      ]
    },
    {
      "cell_type": "markdown",
      "metadata": {
        "id": "UPFbUT1sN-7R"
      },
      "source": [
        "The above code prints the value stored in the variable x, in this case it's 5"
      ]
    },
    {
      "cell_type": "code",
      "metadata": {
        "id": "w9YKEv6TNJAj"
      },
      "source": [
        "x = 1"
      ],
      "execution_count": null,
      "outputs": []
    },
    {
      "cell_type": "markdown",
      "metadata": {
        "id": "LyKGdfhkNXmV"
      },
      "source": [
        "In the above code we have updated the value of variable x to integer value 1"
      ]
    },
    {
      "cell_type": "code",
      "metadata": {
        "colab": {
          "base_uri": "https://localhost:8080/"
        },
        "id": "tRl0wpyrNlGB",
        "outputId": "e09be05a-d692-4936-c3e2-39eca3636b2a"
      },
      "source": [
        "x"
      ],
      "execution_count": null,
      "outputs": [
        {
          "output_type": "execute_result",
          "data": {
            "text/plain": [
              "1"
            ]
          },
          "metadata": {
            "tags": []
          },
          "execution_count": 10
        }
      ]
    },
    {
      "cell_type": "markdown",
      "metadata": {
        "id": "Ateay-SqNnTj"
      },
      "source": [
        "The above code prints the value stored in the variable x, in this case it's 1"
      ]
    },
    {
      "cell_type": "code",
      "metadata": {
        "colab": {
          "base_uri": "https://localhost:8080/"
        },
        "id": "HC0dRYivNx2Y",
        "outputId": "b0df50b9-a717-4832-c4b7-98d54489ab40"
      },
      "source": [
        "x = x + 3\n",
        "x"
      ],
      "execution_count": null,
      "outputs": [
        {
          "output_type": "execute_result",
          "data": {
            "text/plain": [
              "4"
            ]
          },
          "metadata": {
            "tags": []
          },
          "execution_count": 11
        }
      ]
    },
    {
      "cell_type": "markdown",
      "metadata": {
        "id": "pJGtcNSaOOUo"
      },
      "source": [
        "In the above code the value of x is updated to value, which is greater than x by a value of 3"
      ]
    },
    {
      "cell_type": "code",
      "metadata": {
        "colab": {
          "base_uri": "https://localhost:8080/"
        },
        "id": "mqo8cFKiONSv",
        "outputId": "a2822acf-36ae-4b89-e64f-1d362e89b59a"
      },
      "source": [
        "type(x)"
      ],
      "execution_count": null,
      "outputs": [
        {
          "output_type": "execute_result",
          "data": {
            "text/plain": [
              "int"
            ]
          },
          "metadata": {
            "tags": []
          },
          "execution_count": 12
        }
      ]
    },
    {
      "cell_type": "markdown",
      "metadata": {
        "id": "Dbiw5hgTPTMd"
      },
      "source": [
        "The above code displays the type of data stored in the variable x, here its an integer type of data"
      ]
    },
    {
      "cell_type": "code",
      "metadata": {
        "id": "FBNfhm0tPS6k"
      },
      "source": [
        "y = 3.14\n",
        "type(y)"
      ],
      "execution_count": null,
      "outputs": []
    },
    {
      "cell_type": "markdown",
      "metadata": {
        "id": "8GNNWtZhPuoa"
      },
      "source": [
        "Here we have assigned y to a float value of 3.14, and displayed its type"
      ]
    },
    {
      "cell_type": "code",
      "metadata": {
        "colab": {
          "background_save": true
        },
        "id": "lCDw3VODPt4a"
      },
      "source": [
        "z = x + y"
      ],
      "execution_count": null,
      "outputs": []
    },
    {
      "cell_type": "markdown",
      "metadata": {
        "id": "oI0SrHUGPqmi"
      },
      "source": [
        "The above code we have added the values of x and y, and stored that value into a new variable called z"
      ]
    },
    {
      "cell_type": "code",
      "metadata": {
        "id": "fUroNzTCPRnd"
      },
      "source": [
        "z"
      ],
      "execution_count": null,
      "outputs": []
    },
    {
      "cell_type": "code",
      "metadata": {
        "id": "nW7AulwHQZcf"
      },
      "source": [
        "type(z)"
      ],
      "execution_count": null,
      "outputs": []
    },
    {
      "cell_type": "markdown",
      "metadata": {
        "id": "L3R9q226Qgkx"
      },
      "source": [
        "When a float and integer type is added, subtracted, multiplied or divided the result would be a float"
      ]
    },
    {
      "cell_type": "code",
      "metadata": {
        "id": "7i4P7qs7Q7Bf"
      },
      "source": [
        "x = 1\n",
        "x += 1\n",
        "x"
      ],
      "execution_count": null,
      "outputs": []
    },
    {
      "cell_type": "markdown",
      "metadata": {
        "id": "9kpL7g6sRHyd"
      },
      "source": [
        "It's common in programming to add 1 to a variable; for instance, x = x + 1. The shorthand for this is to use += as in the above code.\n",
        "In the same manner, there could be operators such as -=, *=, /=, %=, //= and **= with a similar explanation. You can experiment with them for better understanding."
      ]
    }
  ]
}