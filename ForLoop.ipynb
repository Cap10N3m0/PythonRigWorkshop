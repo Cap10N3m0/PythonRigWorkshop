{
  "nbformat": 4,
  "nbformat_minor": 0,
  "metadata": {
    "colab": {
      "name": "ForLoop.ipynb",
      "provenance": [],
      "authorship_tag": "ABX9TyNoI5+Be0v0Gozl5Ho6sDbU"
    },
    "kernelspec": {
      "name": "python3",
      "display_name": "Python 3"
    }
  },
  "cells": [
    {
      "cell_type": "code",
      "metadata": {
        "colab": {
          "base_uri": "https://localhost:8080/"
        },
        "id": "8sAMY_f6BkA1",
        "outputId": "53677b8d-6bf1-4d9d-89fc-889d23b5a014"
      },
      "source": [
        "for i in range(6):\n",
        "  print(i)"
      ],
      "execution_count": null,
      "outputs": [
        {
          "output_type": "stream",
          "text": [
            "0\n",
            "1\n",
            "2\n",
            "3\n",
            "4\n",
            "5\n"
          ],
          "name": "stdout"
        }
      ]
    },
    {
      "cell_type": "markdown",
      "metadata": {
        "id": "-zGKC9I1CPlQ"
      },
      "source": [
        "range(n) provides the for loop with values from 0 to n-1"
      ]
    },
    {
      "cell_type": "code",
      "metadata": {
        "colab": {
          "base_uri": "https://localhost:8080/"
        },
        "id": "FZzLxCX3Bpbs",
        "outputId": "8c44948e-2809-402c-b3f8-29faceb83db5"
      },
      "source": [
        "for i in range(1,7):\n",
        "  print(i)"
      ],
      "execution_count": null,
      "outputs": [
        {
          "output_type": "stream",
          "text": [
            "1\n",
            "2\n",
            "3\n",
            "4\n",
            "5\n",
            "6\n"
          ],
          "name": "stdout"
        }
      ]
    },
    {
      "cell_type": "markdown",
      "metadata": {
        "id": "txY3MMtHCaAf"
      },
      "source": [
        "range(n,m) provides the for loop with values from n to m-1"
      ]
    },
    {
      "cell_type": "code",
      "metadata": {
        "colab": {
          "base_uri": "https://localhost:8080/"
        },
        "id": "fQaX7HJfCJzP",
        "outputId": "0b34b8a0-d64b-45ff-de78-089ede31bc77"
      },
      "source": [
        "for i in range(1,8,2):\n",
        "  print(i)"
      ],
      "execution_count": null,
      "outputs": [
        {
          "output_type": "stream",
          "text": [
            "1\n",
            "3\n",
            "5\n",
            "7\n"
          ],
          "name": "stdout"
        }
      ]
    },
    {
      "cell_type": "markdown",
      "metadata": {
        "id": "ntv3d_RnC2zO"
      },
      "source": [
        "range(n,m,k) provides the for loops with vaules from n to m-1 with a difference in k between each values\n",
        "\n"
      ]
    },
    {
      "cell_type": "code",
      "metadata": {
        "colab": {
          "base_uri": "https://localhost:8080/"
        },
        "id": "vldplXe9CnD1",
        "outputId": "59040733-80a9-4742-9190-2339478ca43a"
      },
      "source": [
        "for letter in \"python\":\n",
        "  print(letter)"
      ],
      "execution_count": null,
      "outputs": [
        {
          "output_type": "stream",
          "text": [
            "p\n",
            "y\n",
            "t\n",
            "h\n",
            "o\n",
            "n\n"
          ],
          "name": "stdout"
        }
      ]
    },
    {
      "cell_type": "code",
      "metadata": {
        "colab": {
          "base_uri": "https://localhost:8080/"
        },
        "id": "u_xNU3H9DmIK",
        "outputId": "5eabb402-5287-4c97-9837-45e80772ec49"
      },
      "source": [
        "for word in [\"python\",\"programming\",\"language\"]:\n",
        "  print(word)\n"
      ],
      "execution_count": null,
      "outputs": [
        {
          "output_type": "stream",
          "text": [
            "python\n",
            "programming\n",
            "language\n"
          ],
          "name": "stdout"
        }
      ]
    },
    {
      "cell_type": "code",
      "metadata": {
        "colab": {
          "base_uri": "https://localhost:8080/"
        },
        "id": "Ax2icc1nDyBB",
        "outputId": "64c7ed68-c4df-4adf-98d7-c6e4a7401eed"
      },
      "source": [
        "for word in [\"python\",\"programming\",\"language\"]:\n",
        "  for letter in word:\n",
        "    print(letter)\n"
      ],
      "execution_count": null,
      "outputs": [
        {
          "output_type": "stream",
          "text": [
            "p\n",
            "y\n",
            "t\n",
            "h\n",
            "o\n",
            "n\n",
            "p\n",
            "r\n",
            "o\n",
            "g\n",
            "r\n",
            "a\n",
            "m\n",
            "m\n",
            "i\n",
            "n\n",
            "g\n",
            "l\n",
            "a\n",
            "n\n",
            "g\n",
            "u\n",
            "a\n",
            "g\n",
            "e\n"
          ],
          "name": "stdout"
        }
      ]
    },
    {
      "cell_type": "code",
      "metadata": {
        "id": "IInVXL0eD5Yh"
      },
      "source": [
        ""
      ],
      "execution_count": null,
      "outputs": []
    }
  ]
}